{
 "cells": [
  {
   "cell_type": "code",
   "execution_count": 1,
   "id": "68efafbf",
   "metadata": {
    "_cell_guid": "b1076dfc-b9ad-4769-8c92-a6c4dae69d19",
    "_uuid": "8f2839f25d086af736a60e9eeb907d3b93b6e0e5",
    "execution": {
     "iopub.execute_input": "2024-02-16T23:18:36.459239Z",
     "iopub.status.busy": "2024-02-16T23:18:36.458170Z",
     "iopub.status.idle": "2024-02-16T23:18:37.287540Z",
     "shell.execute_reply": "2024-02-16T23:18:37.286665Z"
    },
    "papermill": {
     "duration": 0.838248,
     "end_time": "2024-02-16T23:18:37.290121",
     "exception": false,
     "start_time": "2024-02-16T23:18:36.451873",
     "status": "completed"
    },
    "tags": []
   },
   "outputs": [],
   "source": [
    "\n",
    "import numpy as np \n",
    "import pandas as pd\n",
    "from matplotlib import pyplot as plt\n",
    "                    "
   ]
  },
  {
   "cell_type": "code",
   "execution_count": 2,
   "id": "76fc3a4e",
   "metadata": {
    "execution": {
     "iopub.execute_input": "2024-02-16T23:18:37.301500Z",
     "iopub.status.busy": "2024-02-16T23:18:37.300321Z",
     "iopub.status.idle": "2024-02-16T23:18:40.444860Z",
     "shell.execute_reply": "2024-02-16T23:18:40.443986Z"
    },
    "papermill": {
     "duration": 3.1525,
     "end_time": "2024-02-16T23:18:40.447391",
     "exception": false,
     "start_time": "2024-02-16T23:18:37.294891",
     "status": "completed"
    },
    "tags": []
   },
   "outputs": [],
   "source": [
    "data = pd.read_csv('/kaggle/input/digit-recognizer/train.csv')"
   ]
  },
  {
   "cell_type": "code",
   "execution_count": 3,
   "id": "821bf3f4",
   "metadata": {
    "execution": {
     "iopub.execute_input": "2024-02-16T23:18:40.458137Z",
     "iopub.status.busy": "2024-02-16T23:18:40.457802Z",
     "iopub.status.idle": "2024-02-16T23:18:40.564555Z",
     "shell.execute_reply": "2024-02-16T23:18:40.563499Z"
    },
    "papermill": {
     "duration": 0.115044,
     "end_time": "2024-02-16T23:18:40.567108",
     "exception": false,
     "start_time": "2024-02-16T23:18:40.452064",
     "status": "completed"
    },
    "tags": []
   },
   "outputs": [],
   "source": [
    "data=np.array(data)"
   ]
  },
  {
   "cell_type": "code",
   "execution_count": 4,
   "id": "e1c3fb46",
   "metadata": {
    "execution": {
     "iopub.execute_input": "2024-02-16T23:18:40.577335Z",
     "iopub.status.busy": "2024-02-16T23:18:40.576983Z",
     "iopub.status.idle": "2024-02-16T23:18:41.107229Z",
     "shell.execute_reply": "2024-02-16T23:18:41.106229Z"
    },
    "papermill": {
     "duration": 0.538277,
     "end_time": "2024-02-16T23:18:41.109853",
     "exception": false,
     "start_time": "2024-02-16T23:18:40.571576",
     "status": "completed"
    },
    "tags": []
   },
   "outputs": [],
   "source": [
    "np.random.shuffle(data)"
   ]
  },
  {
   "cell_type": "code",
   "execution_count": 5,
   "id": "d7b10ed2",
   "metadata": {
    "execution": {
     "iopub.execute_input": "2024-02-16T23:18:41.119875Z",
     "iopub.status.busy": "2024-02-16T23:18:41.119511Z",
     "iopub.status.idle": "2024-02-16T23:18:41.123917Z",
     "shell.execute_reply": "2024-02-16T23:18:41.122873Z"
    },
    "papermill": {
     "duration": 0.011817,
     "end_time": "2024-02-16T23:18:41.125967",
     "exception": false,
     "start_time": "2024-02-16T23:18:41.114150",
     "status": "completed"
    },
    "tags": []
   },
   "outputs": [],
   "source": [
    "m,n=data.shape"
   ]
  },
  {
   "cell_type": "code",
   "execution_count": 6,
   "id": "d7c4514b",
   "metadata": {
    "execution": {
     "iopub.execute_input": "2024-02-16T23:18:41.135617Z",
     "iopub.status.busy": "2024-02-16T23:18:41.135262Z",
     "iopub.status.idle": "2024-02-16T23:18:41.139558Z",
     "shell.execute_reply": "2024-02-16T23:18:41.138679Z"
    },
    "papermill": {
     "duration": 0.011307,
     "end_time": "2024-02-16T23:18:41.141486",
     "exception": false,
     "start_time": "2024-02-16T23:18:41.130179",
     "status": "completed"
    },
    "tags": []
   },
   "outputs": [],
   "source": [
    "data_dev=data[:1000].T"
   ]
  },
  {
   "cell_type": "code",
   "execution_count": 7,
   "id": "0dab2317",
   "metadata": {
    "execution": {
     "iopub.execute_input": "2024-02-16T23:18:41.151914Z",
     "iopub.status.busy": "2024-02-16T23:18:41.150914Z",
     "iopub.status.idle": "2024-02-16T23:18:41.157651Z",
     "shell.execute_reply": "2024-02-16T23:18:41.156864Z"
    },
    "papermill": {
     "duration": 0.013736,
     "end_time": "2024-02-16T23:18:41.159507",
     "exception": false,
     "start_time": "2024-02-16T23:18:41.145771",
     "status": "completed"
    },
    "tags": []
   },
   "outputs": [],
   "source": [
    "Y_dev=data_dev[0]\n",
    "X_dev=data_dev[1:n]\n",
    "X_dev=X_dev/255."
   ]
  },
  {
   "cell_type": "code",
   "execution_count": 8,
   "id": "eb2ce7dc",
   "metadata": {
    "execution": {
     "iopub.execute_input": "2024-02-16T23:18:41.169773Z",
     "iopub.status.busy": "2024-02-16T23:18:41.168952Z",
     "iopub.status.idle": "2024-02-16T23:18:41.173696Z",
     "shell.execute_reply": "2024-02-16T23:18:41.172949Z"
    },
    "papermill": {
     "duration": 0.012029,
     "end_time": "2024-02-16T23:18:41.175797",
     "exception": false,
     "start_time": "2024-02-16T23:18:41.163768",
     "status": "completed"
    },
    "tags": []
   },
   "outputs": [
    {
     "name": "stdout",
     "output_type": "stream",
     "text": [
      "(1000,)\n",
      "(784, 1000)\n"
     ]
    }
   ],
   "source": [
    "print(Y_dev.shape)\n",
    "print(X_dev.shape)"
   ]
  },
  {
   "cell_type": "code",
   "execution_count": 9,
   "id": "3907fe5f",
   "metadata": {
    "execution": {
     "iopub.execute_input": "2024-02-16T23:18:41.186800Z",
     "iopub.status.busy": "2024-02-16T23:18:41.185860Z",
     "iopub.status.idle": "2024-02-16T23:18:41.290984Z",
     "shell.execute_reply": "2024-02-16T23:18:41.290123Z"
    },
    "papermill": {
     "duration": 0.112755,
     "end_time": "2024-02-16T23:18:41.293317",
     "exception": false,
     "start_time": "2024-02-16T23:18:41.180562",
     "status": "completed"
    },
    "tags": []
   },
   "outputs": [],
   "source": [
    "data_train=data[1000:m].T\n",
    "Y_train=data_train[0]\n",
    "X_train=data_train[1:n]\n",
    "X_train=X_train/255\n",
    "_,m_train=X_train.shape"
   ]
  },
  {
   "cell_type": "code",
   "execution_count": 10,
   "id": "df984379",
   "metadata": {
    "execution": {
     "iopub.execute_input": "2024-02-16T23:18:41.304299Z",
     "iopub.status.busy": "2024-02-16T23:18:41.303399Z",
     "iopub.status.idle": "2024-02-16T23:18:41.313591Z",
     "shell.execute_reply": "2024-02-16T23:18:41.312792Z"
    },
    "papermill": {
     "duration": 0.017868,
     "end_time": "2024-02-16T23:18:41.315790",
     "exception": false,
     "start_time": "2024-02-16T23:18:41.297922",
     "status": "completed"
    },
    "tags": []
   },
   "outputs": [],
   "source": [
    "def init_parameters():\n",
    "    w1=np.random.rand(10,784)-0.5\n",
    "    w2=np.random.rand(10,10)-0.5\n",
    "    b1=np.random.rand(10,1)-0.5\n",
    "    b2=np.random.rand(10,1)-0.5\n",
    "    return w1,b1,w2,b2\n",
    "\n",
    "def ReLU(a): return np.maximum(a,0)\n",
    "def softmax(a): return np.exp(a)/sum(np.exp(a))\n",
    "\n",
    "def forward_propagation(w1,b1,w2,b2,inp):\n",
    "    z1=w1.dot(inp)+b1\n",
    "    a1=ReLU(z1)\n",
    "    z2=w2.dot(a1)+b2\n",
    "    a2=softmax(z2)\n",
    "    return z1,a1,z2,a2\n",
    "\n",
    "def one_hot(x):\n",
    "    oh=np.zeros((x.size,x.max()+1))\n",
    "    oh[np.arange(x.size),x]=1\n",
    "    oh=oh.T\n",
    "    return oh\n",
    "def deri_relu(x):return x>0\n",
    "\n",
    "def back_prop(z1,a1,z2,a2,w2,x,y):\n",
    "    y=one_hot(y)\n",
    "    dz2=a2-y\n",
    "    dw2=1/m*dz2.dot(a1.T)\n",
    "    db2=1/m*np.sum(dz2)\n",
    "    dz1=w2.T.dot(dz2)*(deri_relu(z1))\n",
    "    dw1=1/m*dz1.dot(x.T)\n",
    "    db1=1/m*np.sum(dz1)\n",
    "    return dw1,db1,dw2,db2\n",
    "\n",
    "def update_params(w1, b1, w2, b2, dw1, db1, dw2, db2, alpha):\n",
    "    w1=w1-alpha*dw1\n",
    "    b1=b1-alpha*db1    \n",
    "    w2=w2-alpha*dw2  \n",
    "    b2=b2-alpha*db2    \n",
    "    return w1,b1,w2,b2\n",
    "\n"
   ]
  },
  {
   "cell_type": "code",
   "execution_count": 11,
   "id": "4a64df24",
   "metadata": {
    "execution": {
     "iopub.execute_input": "2024-02-16T23:18:41.326029Z",
     "iopub.status.busy": "2024-02-16T23:18:41.325203Z",
     "iopub.status.idle": "2024-02-16T23:18:41.331978Z",
     "shell.execute_reply": "2024-02-16T23:18:41.331297Z"
    },
    "papermill": {
     "duration": 0.01373,
     "end_time": "2024-02-16T23:18:41.333867",
     "exception": false,
     "start_time": "2024-02-16T23:18:41.320137",
     "status": "completed"
    },
    "tags": []
   },
   "outputs": [],
   "source": [
    "def get_pred(x):\n",
    "    return np.argmax(x,0)\n",
    "\n",
    "def get_correctness(pred, y):\n",
    "    print(pred,y)\n",
    "    return np.sum(pred == y)/y.size\n",
    "\n",
    "def gradient_descent(x,y,alpha,it):\n",
    "    w1,b1,w2,b2=init_parameters()\n",
    "    for i in range(it):\n",
    "        z1,a1,z2,a2=forward_propagation(w1,b1,w2,b2,x)\n",
    "        dW1,db1,dw2,db2=back_prop(z1,a1,z2,a2,w2,x,y)\n",
    "        w1,b1,w2,b2=update_params(w1,b1,w2,b2,dW1,db1,dw2,db2,alpha)\n",
    "        if i%10==0:\n",
    "            print(\"Iteration: \",i)\n",
    "            predictions=get_pred(a2)\n",
    "            print(get_correctness(predictions, y))\n",
    "    return w1,b1,w2,b2"
   ]
  },
  {
   "cell_type": "code",
   "execution_count": 12,
   "id": "b8ce2d2d",
   "metadata": {
    "execution": {
     "iopub.execute_input": "2024-02-16T23:18:41.343943Z",
     "iopub.status.busy": "2024-02-16T23:18:41.343183Z",
     "iopub.status.idle": "2024-02-16T23:20:35.071561Z",
     "shell.execute_reply": "2024-02-16T23:20:35.070051Z"
    },
    "papermill": {
     "duration": 113.73675,
     "end_time": "2024-02-16T23:20:35.074903",
     "exception": false,
     "start_time": "2024-02-16T23:18:41.338153",
     "status": "completed"
    },
    "tags": []
   },
   "outputs": [
    {
     "name": "stdout",
     "output_type": "stream",
     "text": [
      "Iteration:  0\n",
      "[8 0 9 ... 9 5 8] [3 9 4 ... 0 9 6]\n",
      "0.08446341463414635\n",
      "Iteration:  10\n",
      "[7 7 0 ... 9 0 8] [3 9 4 ... 0 9 6]\n",
      "0.1626829268292683\n",
      "Iteration:  20\n",
      "[7 7 0 ... 0 0 2] [3 9 4 ... 0 9 6]\n",
      "0.2330487804878049\n",
      "Iteration:  30\n",
      "[8 4 0 ... 0 0 2] [3 9 4 ... 0 9 6]\n",
      "0.2952682926829268\n",
      "Iteration:  40\n",
      "[8 9 4 ... 0 9 2] [3 9 4 ... 0 9 6]\n",
      "0.35492682926829267\n",
      "Iteration:  50\n",
      "[8 9 4 ... 0 9 2] [3 9 4 ... 0 9 6]\n",
      "0.4100731707317073\n",
      "Iteration:  60\n",
      "[8 9 4 ... 0 9 2] [3 9 4 ... 0 9 6]\n",
      "0.4528048780487805\n",
      "Iteration:  70\n",
      "[8 9 4 ... 0 9 2] [3 9 4 ... 0 9 6]\n",
      "0.487390243902439\n",
      "Iteration:  80\n",
      "[8 9 4 ... 0 9 2] [3 9 4 ... 0 9 6]\n",
      "0.5170243902439025\n",
      "Iteration:  90\n",
      "[8 9 4 ... 0 9 2] [3 9 4 ... 0 9 6]\n",
      "0.5463170731707317\n",
      "Iteration:  100\n",
      "[8 9 4 ... 0 9 2] [3 9 4 ... 0 9 6]\n",
      "0.5740243902439024\n",
      "Iteration:  110\n",
      "[8 9 4 ... 0 9 2] [3 9 4 ... 0 9 6]\n",
      "0.599609756097561\n",
      "Iteration:  120\n",
      "[8 9 4 ... 0 9 8] [3 9 4 ... 0 9 6]\n",
      "0.6220243902439024\n",
      "Iteration:  130\n",
      "[8 9 4 ... 0 9 8] [3 9 4 ... 0 9 6]\n",
      "0.6412682926829268\n",
      "Iteration:  140\n",
      "[8 9 4 ... 0 9 6] [3 9 4 ... 0 9 6]\n",
      "0.6586585365853659\n",
      "Iteration:  150\n",
      "[8 9 4 ... 0 9 6] [3 9 4 ... 0 9 6]\n",
      "0.6751951219512196\n",
      "Iteration:  160\n",
      "[8 9 4 ... 0 9 6] [3 9 4 ... 0 9 6]\n",
      "0.6893658536585365\n",
      "Iteration:  170\n",
      "[5 9 4 ... 0 9 6] [3 9 4 ... 0 9 6]\n",
      "0.703780487804878\n",
      "Iteration:  180\n",
      "[3 9 4 ... 0 9 6] [3 9 4 ... 0 9 6]\n",
      "0.717609756097561\n",
      "Iteration:  190\n",
      "[3 9 4 ... 0 9 6] [3 9 4 ... 0 9 6]\n",
      "0.7285365853658536\n",
      "Iteration:  200\n",
      "[3 9 4 ... 0 9 6] [3 9 4 ... 0 9 6]\n",
      "0.7380731707317073\n",
      "Iteration:  210\n",
      "[3 9 4 ... 0 9 6] [3 9 4 ... 0 9 6]\n",
      "0.7469024390243902\n",
      "Iteration:  220\n",
      "[3 9 4 ... 0 9 6] [3 9 4 ... 0 9 6]\n",
      "0.7547073170731707\n",
      "Iteration:  230\n",
      "[3 9 4 ... 0 9 6] [3 9 4 ... 0 9 6]\n",
      "0.7620243902439024\n",
      "Iteration:  240\n",
      "[3 9 4 ... 0 9 6] [3 9 4 ... 0 9 6]\n",
      "0.7690731707317073\n",
      "Iteration:  250\n",
      "[3 9 4 ... 0 9 6] [3 9 4 ... 0 9 6]\n",
      "0.7753170731707317\n",
      "Iteration:  260\n",
      "[3 9 4 ... 0 9 6] [3 9 4 ... 0 9 6]\n",
      "0.7811219512195122\n",
      "Iteration:  270\n",
      "[3 9 4 ... 0 9 6] [3 9 4 ... 0 9 6]\n",
      "0.7861463414634147\n",
      "Iteration:  280\n",
      "[3 9 4 ... 0 9 6] [3 9 4 ... 0 9 6]\n",
      "0.7903170731707317\n",
      "Iteration:  290\n",
      "[3 9 4 ... 0 9 6] [3 9 4 ... 0 9 6]\n",
      "0.7944390243902439\n",
      "Iteration:  300\n",
      "[3 9 4 ... 0 9 6] [3 9 4 ... 0 9 6]\n",
      "0.7983414634146342\n",
      "Iteration:  310\n",
      "[3 9 4 ... 0 9 6] [3 9 4 ... 0 9 6]\n",
      "0.802219512195122\n",
      "Iteration:  320\n",
      "[3 9 4 ... 0 9 6] [3 9 4 ... 0 9 6]\n",
      "0.8056829268292683\n",
      "Iteration:  330\n",
      "[3 9 4 ... 0 9 6] [3 9 4 ... 0 9 6]\n",
      "0.8086585365853659\n",
      "Iteration:  340\n",
      "[3 9 4 ... 0 9 6] [3 9 4 ... 0 9 6]\n",
      "0.811439024390244\n",
      "Iteration:  350\n",
      "[3 9 4 ... 0 9 6] [3 9 4 ... 0 9 6]\n",
      "0.8139512195121951\n",
      "Iteration:  360\n",
      "[3 9 4 ... 0 9 6] [3 9 4 ... 0 9 6]\n",
      "0.816780487804878\n",
      "Iteration:  370\n",
      "[3 9 4 ... 0 9 6] [3 9 4 ... 0 9 6]\n",
      "0.819170731707317\n",
      "Iteration:  380\n",
      "[3 9 4 ... 0 9 6] [3 9 4 ... 0 9 6]\n",
      "0.8216097560975609\n",
      "Iteration:  390\n",
      "[3 9 4 ... 0 9 6] [3 9 4 ... 0 9 6]\n",
      "0.8237560975609756\n",
      "Iteration:  400\n",
      "[3 9 4 ... 0 9 6] [3 9 4 ... 0 9 6]\n",
      "0.8258292682926829\n",
      "Iteration:  410\n",
      "[3 9 4 ... 0 9 6] [3 9 4 ... 0 9 6]\n",
      "0.8277073170731707\n",
      "Iteration:  420\n",
      "[3 9 4 ... 0 9 6] [3 9 4 ... 0 9 6]\n",
      "0.8297317073170731\n",
      "Iteration:  430\n",
      "[3 9 4 ... 0 9 6] [3 9 4 ... 0 9 6]\n",
      "0.8315365853658536\n",
      "Iteration:  440\n",
      "[3 9 4 ... 0 9 6] [3 9 4 ... 0 9 6]\n",
      "0.8332926829268292\n",
      "Iteration:  450\n",
      "[3 9 4 ... 0 9 6] [3 9 4 ... 0 9 6]\n",
      "0.8354878048780487\n",
      "Iteration:  460\n",
      "[3 9 4 ... 0 9 6] [3 9 4 ... 0 9 6]\n",
      "0.8370243902439024\n",
      "Iteration:  470\n",
      "[3 9 4 ... 0 9 6] [3 9 4 ... 0 9 6]\n",
      "0.8384146341463414\n",
      "Iteration:  480\n",
      "[3 9 4 ... 0 9 6] [3 9 4 ... 0 9 6]\n",
      "0.8401951219512195\n",
      "Iteration:  490\n",
      "[3 9 4 ... 0 9 6] [3 9 4 ... 0 9 6]\n",
      "0.8414146341463414\n",
      "Iteration:  500\n",
      "[3 9 4 ... 0 9 6] [3 9 4 ... 0 9 6]\n",
      "0.8430243902439024\n",
      "Iteration:  510\n",
      "[3 9 4 ... 0 9 6] [3 9 4 ... 0 9 6]\n",
      "0.8440975609756097\n",
      "Iteration:  520\n",
      "[3 9 4 ... 0 9 6] [3 9 4 ... 0 9 6]\n",
      "0.8453414634146341\n",
      "Iteration:  530\n",
      "[3 9 4 ... 0 9 6] [3 9 4 ... 0 9 6]\n",
      "0.8464634146341463\n",
      "Iteration:  540\n",
      "[3 9 4 ... 0 9 6] [3 9 4 ... 0 9 6]\n",
      "0.8477560975609756\n",
      "Iteration:  550\n",
      "[3 9 4 ... 0 9 6] [3 9 4 ... 0 9 6]\n",
      "0.8488780487804878\n",
      "Iteration:  560\n",
      "[3 9 4 ... 0 9 6] [3 9 4 ... 0 9 6]\n",
      "0.8499756097560975\n",
      "Iteration:  570\n",
      "[3 9 4 ... 0 9 6] [3 9 4 ... 0 9 6]\n",
      "0.8512439024390244\n",
      "Iteration:  580\n",
      "[3 9 4 ... 0 9 6] [3 9 4 ... 0 9 6]\n",
      "0.8524390243902439\n",
      "Iteration:  590\n",
      "[3 9 4 ... 0 9 6] [3 9 4 ... 0 9 6]\n",
      "0.8535121951219512\n",
      "Iteration:  600\n",
      "[3 9 4 ... 0 9 6] [3 9 4 ... 0 9 6]\n",
      "0.8544390243902439\n",
      "Iteration:  610\n",
      "[3 9 4 ... 0 9 6] [3 9 4 ... 0 9 6]\n",
      "0.8553414634146341\n",
      "Iteration:  620\n",
      "[3 9 4 ... 0 9 6] [3 9 4 ... 0 9 6]\n",
      "0.8559268292682927\n",
      "Iteration:  630\n",
      "[3 9 4 ... 0 9 6] [3 9 4 ... 0 9 6]\n",
      "0.8569024390243902\n",
      "Iteration:  640\n",
      "[3 9 4 ... 0 9 6] [3 9 4 ... 0 9 6]\n",
      "0.858\n",
      "Iteration:  650\n",
      "[3 9 4 ... 0 9 6] [3 9 4 ... 0 9 6]\n",
      "0.8586585365853658\n",
      "Iteration:  660\n",
      "[3 9 4 ... 0 9 6] [3 9 4 ... 0 9 6]\n",
      "0.8598292682926829\n",
      "Iteration:  670\n",
      "[3 9 4 ... 0 9 6] [3 9 4 ... 0 9 6]\n",
      "0.860390243902439\n",
      "Iteration:  680\n",
      "[3 9 4 ... 0 9 6] [3 9 4 ... 0 9 6]\n",
      "0.8613170731707317\n",
      "Iteration:  690\n",
      "[3 9 4 ... 0 9 6] [3 9 4 ... 0 9 6]\n",
      "0.8618780487804878\n",
      "Iteration:  700\n",
      "[3 9 4 ... 0 9 6] [3 9 4 ... 0 9 6]\n",
      "0.862390243902439\n",
      "Iteration:  710\n",
      "[3 9 4 ... 0 9 6] [3 9 4 ... 0 9 6]\n",
      "0.8628048780487805\n",
      "Iteration:  720\n",
      "[3 9 4 ... 0 9 6] [3 9 4 ... 0 9 6]\n",
      "0.8634390243902439\n",
      "Iteration:  730\n",
      "[3 9 4 ... 0 9 6] [3 9 4 ... 0 9 6]\n",
      "0.8640731707317073\n",
      "Iteration:  740\n",
      "[3 9 4 ... 0 9 6] [3 9 4 ... 0 9 6]\n",
      "0.8648780487804878\n",
      "Iteration:  750\n",
      "[3 9 4 ... 0 9 6] [3 9 4 ... 0 9 6]\n",
      "0.8655121951219512\n",
      "Iteration:  760\n",
      "[3 9 4 ... 0 9 6] [3 9 4 ... 0 9 6]\n",
      "0.8661951219512195\n",
      "Iteration:  770\n",
      "[3 9 4 ... 0 9 6] [3 9 4 ... 0 9 6]\n",
      "0.867\n",
      "Iteration:  780\n",
      "[3 9 4 ... 0 9 6] [3 9 4 ... 0 9 6]\n",
      "0.8673658536585366\n",
      "Iteration:  790\n",
      "[3 9 4 ... 0 9 6] [3 9 4 ... 0 9 6]\n",
      "0.8679756097560976\n",
      "Iteration:  800\n",
      "[3 9 4 ... 0 9 6] [3 9 4 ... 0 9 6]\n",
      "0.8683658536585366\n",
      "Iteration:  810\n",
      "[3 9 4 ... 0 9 6] [3 9 4 ... 0 9 6]\n",
      "0.8688292682926829\n",
      "Iteration:  820\n",
      "[3 9 4 ... 0 9 6] [3 9 4 ... 0 9 6]\n",
      "0.8692439024390244\n",
      "Iteration:  830\n",
      "[3 9 4 ... 0 9 6] [3 9 4 ... 0 9 6]\n",
      "0.869609756097561\n",
      "Iteration:  840\n",
      "[3 9 4 ... 0 9 6] [3 9 4 ... 0 9 6]\n",
      "0.87\n",
      "Iteration:  850\n",
      "[3 9 4 ... 0 9 6] [3 9 4 ... 0 9 6]\n",
      "0.870609756097561\n",
      "Iteration:  860\n",
      "[3 9 4 ... 0 9 6] [3 9 4 ... 0 9 6]\n",
      "0.8712926829268293\n",
      "Iteration:  870\n",
      "[3 9 4 ... 0 9 6] [3 9 4 ... 0 9 6]\n",
      "0.8718780487804878\n",
      "Iteration:  880\n",
      "[3 9 4 ... 0 9 6] [3 9 4 ... 0 9 6]\n",
      "0.872390243902439\n",
      "Iteration:  890\n",
      "[3 9 4 ... 0 9 6] [3 9 4 ... 0 9 6]\n",
      "0.8729512195121951\n",
      "Iteration:  900\n",
      "[3 9 4 ... 0 9 6] [3 9 4 ... 0 9 6]\n",
      "0.8731219512195122\n",
      "Iteration:  910\n",
      "[3 9 4 ... 0 9 6] [3 9 4 ... 0 9 6]\n",
      "0.8736829268292683\n",
      "Iteration:  920\n",
      "[3 9 4 ... 0 9 6] [3 9 4 ... 0 9 6]\n",
      "0.8741951219512195\n",
      "Iteration:  930\n",
      "[3 9 4 ... 0 9 6] [3 9 4 ... 0 9 6]\n",
      "0.8745365853658537\n",
      "Iteration:  940\n",
      "[3 9 4 ... 0 9 6] [3 9 4 ... 0 9 6]\n",
      "0.8749512195121951\n",
      "Iteration:  950\n",
      "[3 9 4 ... 0 9 6] [3 9 4 ... 0 9 6]\n",
      "0.8753170731707317\n",
      "Iteration:  960\n",
      "[3 9 4 ... 0 9 6] [3 9 4 ... 0 9 6]\n",
      "0.8756585365853659\n",
      "Iteration:  970\n",
      "[3 9 4 ... 0 9 6] [3 9 4 ... 0 9 6]\n",
      "0.8759512195121951\n",
      "Iteration:  980\n",
      "[3 9 4 ... 0 9 6] [3 9 4 ... 0 9 6]\n",
      "0.876219512195122\n",
      "Iteration:  990\n",
      "[3 9 4 ... 0 9 6] [3 9 4 ... 0 9 6]\n",
      "0.8765121951219512\n"
     ]
    }
   ],
   "source": [
    "w1,b1,w2,b2=gradient_descent(X_train,Y_train,0.10,1000)\n"
   ]
  },
  {
   "cell_type": "code",
   "execution_count": 13,
   "id": "8f2359c4",
   "metadata": {
    "execution": {
     "iopub.execute_input": "2024-02-16T23:20:35.113418Z",
     "iopub.status.busy": "2024-02-16T23:20:35.112876Z",
     "iopub.status.idle": "2024-02-16T23:20:35.126231Z",
     "shell.execute_reply": "2024-02-16T23:20:35.124939Z"
    },
    "papermill": {
     "duration": 0.036858,
     "end_time": "2024-02-16T23:20:35.129964",
     "exception": false,
     "start_time": "2024-02-16T23:20:35.093106",
     "status": "completed"
    },
    "tags": []
   },
   "outputs": [],
   "source": [
    "def make_predictions(X,w1,b1,w2,b2):\n",
    "    _,_,_,a2=forward_propagation(w1,b1,w2,b2,X)\n",
    "    pred=get_pred(a2)\n",
    "    return pred\n",
    "\n",
    "def test_prediction(index,w1,b1,w2,b2):\n",
    "    current_image=X_train[:,index, None]\n",
    "    prediction=make_predictions(X_train[:, index, None], w1, b1, w2, b2)\n",
    "    label=Y_train[index]\n",
    "    print(\"Prediction: \",prediction)\n",
    "    print(\"Label: \",label)\n",
    "    \n",
    "    current_image=current_image.reshape((28, 28))-255\n",
    "    plt.gray()\n",
    "    plt.imshow(current_image, interpolation='nearest')\n",
    "    plt.show()"
   ]
  },
  {
   "cell_type": "code",
   "execution_count": 14,
   "id": "87af4010",
   "metadata": {
    "execution": {
     "iopub.execute_input": "2024-02-16T23:20:35.173848Z",
     "iopub.status.busy": "2024-02-16T23:20:35.173286Z",
     "iopub.status.idle": "2024-02-16T23:20:35.825289Z",
     "shell.execute_reply": "2024-02-16T23:20:35.824340Z"
    },
    "papermill": {
     "duration": 0.678548,
     "end_time": "2024-02-16T23:20:35.827407",
     "exception": false,
     "start_time": "2024-02-16T23:20:35.148859",
     "status": "completed"
    },
    "tags": []
   },
   "outputs": [
    {
     "name": "stdout",
     "output_type": "stream",
     "text": [
      "Prediction:  [3]\n",
      "Label:  3\n"
     ]
    },
    {
     "data": {
      "image/png": "[encoded data removed]",
      "text/plain": [
       "<Figure size 640x480 with 1 Axes>"
      ]
     },
     "metadata": {},
     "output_type": "display_data"
    },
    {
     "name": "stdout",
     "output_type": "stream",
     "text": [
      "Prediction:  [9]\n",
      "Label:  9\n"
     ]
    },
    {
     "data": {
      "image/png": "[encoded data removed]",
      "text/plain": [
       "<Figure size 640x480 with 1 Axes>"
      ]
     },
     "metadata": {},
     "output_type": "display_data"
    },
    {
     "name": "stdout",
     "output_type": "stream",
     "text": [
      "Prediction:  [4]\n",
      "Label:  4\n"
     ]
    },
    {
     "data": {
      "image/png": "[encoded data removed]",
      "text/plain": [
       "<Figure size 640x480 with 1 Axes>"
      ]
     },
     "metadata": {},
     "output_type": "display_data"
    },
    {
     "name": "stdout",
     "output_type": "stream",
     "text": [
      "Prediction:  [7]\n",
      "Label:  7\n"
     ]
    },
    {
     "data": {
      "image/png": "[encoded data removed]",
      "text/plain": [
       "<Figure size 640x480 with 1 Axes>"
      ]
     },
     "metadata": {},
     "output_type": "display_data"
    }
   ],
   "source": [
    "test_prediction(0, w1, b1, w2, b2)\n",
    "test_prediction(1, w1, b1, w2, b2)\n",
    "test_prediction(2, w1, b1, w2, b2)\n",
    "test_prediction(3, w1, b1, w2, b2)"
   ]
  },
  {
   "cell_type": "code",
   "execution_count": 15,
   "id": "566cc2ea",
   "metadata": {
    "execution": {
     "iopub.execute_input": "2024-02-16T23:20:35.853561Z",
     "iopub.status.busy": "2024-02-16T23:20:35.852751Z",
     "iopub.status.idle": "2024-02-16T23:20:35.873121Z",
     "shell.execute_reply": "2024-02-16T23:20:35.870494Z"
    },
    "papermill": {
     "duration": 0.035388,
     "end_time": "2024-02-16T23:20:35.875369",
     "exception": false,
     "start_time": "2024-02-16T23:20:35.839981",
     "status": "completed"
    },
    "tags": []
   },
   "outputs": [
    {
     "name": "stdout",
     "output_type": "stream",
     "text": [
      "[2 7 1 8 7 0 9 2 3 2 2 1 3 5 0 2 7 8 4 2 0 5 0 5 8 0 7 1 6 9 2 9 3 5 2 7 1\n",
      " 1 0 2 0 0 1 4 9 7 8 0 2 2 8 9 7 0 1 2 8 5 7 6 2 7 3 8 2 6 2 3 7 1 3 5 8 3\n",
      " 4 8 6 7 7 0 8 4 8 4 3 1 8 7 1 2 8 9 1 8 7 2 2 6 1 4 4 4 0 4 1 2 3 8 2 1 0\n",
      " 6 8 0 5 7 1 8 9 2 3 9 0 2 2 5 0 3 5 9 2 6 6 4 4 2 4 9 2 5 7 5 8 0 6 4 1 7\n",
      " 2 2 0 8 1 0 3 6 2 1 2 0 1 5 0 1 7 4 1 9 1 1 7 6 1 2 9 7 8 7 6 7 8 0 3 0 7\n",
      " 2 2 5 6 7 7 5 3 5 3 0 1 3 4 6 0 6 5 4 3 9 8 0 3 9 8 0 4 0 3 4 6 7 6 8 0 3\n",
      " 0 9 0 1 9 0 9 1 4 7 4 2 5 3 3 5 6 3 5 9 0 4 3 7 6 6 5 2 2 3 9 9 3 6 6 3 4\n",
      " 7 3 2 0 8 6 3 3 0 1 4 8 4 8 7 4 5 0 1 5 7 1 1 6 3 9 8 6 7 0 5 5 7 4 9 8 1\n",
      " 7 2 9 1 4 5 1 6 9 9 2 7 2 7 7 7 0 6 7 3 5 1 6 9 2 4 2 7 0 1 0 2 6 8 2 4 2\n",
      " 3 0 4 8 7 1 1 9 5 1 6 9 2 4 3 5 6 2 6 9 1 5 9 5 1 4 1 3 6 7 5 6 3 4 7 3 8\n",
      " 4 3 8 8 7 0 2 7 5 5 2 7 9 4 0 8 3 9 8 3 7 6 8 9 1 6 9 1 7 9 3 8 8 0 2 2 5\n",
      " 1 0 6 3 3 7 9 3 1 6 3 2 2 0 8 6 7 0 3 3 2 0 4 4 6 4 0 6 5 1 2 2 7 0 9 7 2\n",
      " 0 9 3 6 0 2 6 7 6 0 1 7 8 0 7 2 7 4 3 7 9 8 9 8 9 6 6 0 3 8 6 4 5 7 1 2 9\n",
      " 4 2 8 5 7 3 1 0 9 4 5 0 9 4 6 8 9 6 6 1 4 0 3 5 3 1 0 9 1 7 1 8 9 4 1 2 1\n",
      " 8 6 6 7 5 0 3 8 6 0 3 0 6 9 4 9 5 2 7 3 8 0 6 0 3 6 5 7 0 5 1 6 2 3 1 0 2\n",
      " 3 0 6 5 4 9 3 8 5 6 1 7 0 1 7 7 3 0 2 7 7 0 8 6 9 7 0 4 4 5 9 3 7 7 2 4 2\n",
      " 9 0 4 0 9 2 1 5 9 0 4 6 3 3 8 3 1 7 4 9 2 8 0 4 3 6 9 2 2 2 0 1 0 5 6 0 0\n",
      " 3 4 1 7 2 5 9 3 2 0 5 0 4 8 1 2 2 8 0 5 1 1 1 7 5 6 6 0 9 5 6 4 5 8 1 1 5\n",
      " 8 3 2 9 4 1 1 0 9 7 7 1 6 0 9 5 3 4 6 1 2 5 1 5 2 1 5 4 4 1 9 6 8 3 8 7 6\n",
      " 5 5 7 4 2 1 6 3 0 3 2 1 3 1 1 6 7 2 6 1 4 1 6 0 3 8 9 0 8 5 5 4 4 9 2 9 5\n",
      " 1 4 7 4 3 2 7 2 6 6 4 8 6 3 3 6 4 6 1 0 0 1 7 4 3 8 7 9 6 4 3 7 0 2 8 0 0\n",
      " 6 3 3 1 5 0 1 5 6 8 5 8 1 1 3 3 0 6 1 4 0 8 7 0 4 2 9 3 2 9 2 3 2 7 1 3 7\n",
      " 5 0 5 1 7 9 2 0 4 4 3 1 0 7 4 3 9 5 5 1 5 4 9 9 3 8 3 7 9 3 3 7 7 4 3 5 4\n",
      " 2 2 3 6 1 1 3 8 2 5 4 2 0 4 3 4 4 8 6 9 3 6 9 6 1 3 9 3 1 5 5 7 8 7 4 4 1\n",
      " 3 1 2 5 0 4 3 0 6 2 8 4 9 0 5 3 3 3 5 0 1 3 5 4 3 5 9 1 8 1 9 3 9 3 0 5 6\n",
      " 4 9 8 3 1 2 0 7 7 7 3 5 5 0 3 3 8 6 6 1 1 1 0 7 9 9 6 8 4 9 5 1 9 0 0 7 7\n",
      " 5 8 3 0 3 4 8 8 6 3 9 3 1 5 9 5 5 5 3 5 2 8 5 0 8 3 6 9 2 4 0 3 6 9 4 2 8\n",
      " 8] [8 7 1 8 7 0 9 2 3 2 2 5 3 5 0 2 7 8 4 2 0 5 0 5 8 0 7 1 6 7 2 9 5 5 2 7 1\n",
      " 1 0 2 0 0 1 4 9 7 8 0 5 3 8 9 7 0 4 3 8 5 7 6 2 7 3 2 2 6 5 3 7 1 3 5 8 3\n",
      " 4 8 6 7 7 0 8 4 8 4 3 1 8 7 1 7 8 9 1 8 7 2 2 6 1 4 4 4 0 4 4 2 3 8 2 1 0\n",
      " 6 8 0 5 7 8 9 9 2 3 9 0 2 2 5 0 5 5 9 2 6 6 4 4 2 4 9 2 5 7 5 8 0 6 4 1 7\n",
      " 2 2 0 8 1 0 2 6 3 1 2 0 1 5 0 1 7 4 1 9 1 1 7 6 1 2 9 7 1 7 5 7 8 0 3 0 7\n",
      " 2 2 8 6 7 7 5 3 5 3 0 1 3 4 6 0 6 5 4 3 9 8 0 3 9 8 0 4 0 8 4 6 7 6 8 0 3\n",
      " 0 9 0 2 9 0 9 1 4 7 4 2 8 8 3 5 6 3 5 9 0 5 3 7 6 6 5 2 3 3 9 9 3 5 6 3 4\n",
      " 7 3 2 0 8 6 3 3 0 1 4 8 4 8 7 4 1 0 1 5 7 1 1 6 3 9 9 6 7 0 5 5 7 4 7 8 1\n",
      " 7 2 9 1 8 5 1 6 7 9 2 7 2 7 7 9 0 6 7 3 5 1 6 9 3 4 2 7 0 1 0 2 6 8 2 4 7\n",
      " 3 0 4 8 7 1 1 9 5 1 6 9 2 4 3 5 6 2 2 9 1 5 9 5 1 4 1 3 6 7 6 6 2 4 7 3 8\n",
      " 4 8 8 8 7 0 2 7 5 0 2 7 9 4 2 8 3 9 8 3 7 2 8 9 1 6 7 8 7 9 3 8 8 0 2 2 5\n",
      " 1 0 6 3 3 7 4 3 1 6 3 2 2 0 8 6 7 0 8 8 2 0 4 4 6 4 0 6 5 1 6 2 7 0 9 5 2\n",
      " 2 7 3 6 0 8 6 6 6 7 1 7 8 5 7 2 7 4 2 7 9 8 9 8 9 6 6 0 3 8 6 4 5 7 1 3 9\n",
      " 4 2 8 3 7 3 1 0 9 4 5 0 9 4 2 5 9 6 5 1 4 0 3 5 8 1 0 9 1 7 1 8 9 4 1 2 1\n",
      " 8 6 6 7 5 0 3 0 6 0 8 0 6 9 6 9 5 3 7 3 8 0 6 0 3 2 5 7 0 5 1 6 2 3 1 0 2\n",
      " 3 0 6 5 9 4 3 8 5 6 1 7 0 1 7 9 3 0 2 7 7 0 8 6 9 7 0 4 4 5 9 3 7 7 2 4 2\n",
      " 9 0 4 0 9 2 1 5 9 0 4 6 8 3 8 0 1 3 4 9 2 8 4 4 5 6 9 2 2 4 0 1 0 5 2 0 0\n",
      " 3 4 1 7 7 4 9 3 2 0 5 0 4 8 1 2 2 8 0 5 1 1 1 7 1 6 6 0 9 5 6 4 8 8 1 1 5\n",
      " 8 3 2 9 4 1 1 0 9 7 7 1 6 0 9 5 3 4 6 1 7 5 1 5 2 1 5 4 4 1 7 6 8 3 8 7 6\n",
      " 5 5 7 4 3 8 6 3 0 3 5 1 3 1 1 6 7 2 6 1 4 1 6 0 3 8 9 0 8 5 5 4 4 9 2 9 5\n",
      " 7 4 7 4 3 2 6 2 6 5 4 8 6 9 3 6 4 6 1 0 0 1 7 1 5 8 7 9 6 4 3 7 0 2 5 0 0\n",
      " 0 7 3 8 5 5 1 3 6 8 5 8 1 1 3 3 0 6 7 9 2 8 7 0 4 2 9 3 2 9 2 3 2 7 1 3 7\n",
      " 5 0 5 1 7 9 2 0 4 4 3 1 3 7 4 3 9 5 5 1 5 4 9 9 3 8 3 7 7 9 5 7 7 4 3 5 4\n",
      " 5 2 8 6 1 1 3 8 2 5 4 2 0 4 3 9 4 8 6 3 3 6 9 6 1 3 9 3 1 5 5 7 8 7 4 4 1\n",
      " 3 1 2 5 0 4 3 0 6 2 8 4 9 0 5 2 3 3 5 0 1 2 5 4 5 5 9 1 8 1 9 3 9 3 0 3 3\n",
      " 4 9 8 3 1 2 0 7 7 7 3 5 5 2 3 3 8 6 6 1 1 1 0 7 9 9 6 8 9 9 9 1 9 0 0 7 7\n",
      " 5 8 2 0 3 4 8 8 6 3 9 3 1 8 2 5 5 5 3 5 2 8 5 6 8 3 6 7 2 4 0 3 6 9 4 2 8\n",
      " 8]\n"
     ]
    },
    {
     "data": {
      "text/plain": [
       "0.878"
      ]
     },
     "execution_count": 15,
     "metadata": {},
     "output_type": "execute_result"
    }
   ],
   "source": [
    "dev_predictions = make_predictions(X_dev,w1,b1,w2,b2)\n",
    "get_correctness(dev_predictions,Y_dev)"
   ]
  },
  {
   "cell_type": "code",
   "execution_count": null,
   "id": "1873e57b",
   "metadata": {
    "papermill": {
     "duration": 0.020384,
     "end_time": "2024-02-16T23:20:35.914899",
     "exception": false,
     "start_time": "2024-02-16T23:20:35.894515",
     "status": "completed"
    },
    "tags": []
   },
   "outputs": [],
   "source": []
  }
 ],
 "metadata": {
  "kaggle": {
   "accelerator": "none",
   "dataSources": [
    {
     "databundleVersionId": 861823,
     "sourceId": 3004,
     "sourceType": "competition"
    }
   ],
   "dockerImageVersionId": 30646,
   "isGpuEnabled": false,
   "isInternetEnabled": false,
   "language": "python",
   "sourceType": "notebook"
  },
  "kernelspec": {
   "display_name": "Python 3",
   "language": "python",
   "name": "python3"
  },
  "language_info": {
   "codemirror_mode": {
    "name": "ipython",
    "version": 3
   },
   "file_extension": ".py",
   "mimetype": "text/x-python",
   "name": "python",
   "nbconvert_exporter": "python",
   "pygments_lexer": "ipython3",
   "version": "3.10.13"
  },
  "papermill": {
   "default_parameters": {},
   "duration": 122.936364,
   "end_time": "2024-02-16T23:20:36.357135",
   "environment_variables": {},
   "exception": null,
   "input_path": "__notebook__.ipynb",
   "output_path": "__notebook__.ipynb",
   "parameters": {},
   "start_time": "2024-02-16T23:18:33.420771",
   "version": "2.5.0"
  }
 },
 "nbformat": 4,
 "nbformat_minor": 5
}
