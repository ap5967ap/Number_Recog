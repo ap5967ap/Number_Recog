{
 "cells": [
  {
   "cell_type": "code",
   "execution_count": 1,
   "id": "987fc2c3",
   "metadata": {
    "_cell_guid": "b1076dfc-b9ad-4769-8c92-a6c4dae69d19",
    "_uuid": "8f2839f25d086af736a60e9eeb907d3b93b6e0e5",
    "execution": {
     "iopub.execute_input": "2024-02-16T16:33:15.053080Z",
     "iopub.status.busy": "2024-02-16T16:33:15.052458Z",
     "iopub.status.idle": "2024-02-16T16:33:15.907759Z",
     "shell.execute_reply": "2024-02-16T16:33:15.906830Z"
    },
    "papermill": {
     "duration": 0.864202,
     "end_time": "2024-02-16T16:33:15.910463",
     "exception": false,
     "start_time": "2024-02-16T16:33:15.046261",
     "status": "completed"
    },
    "tags": []
   },
   "outputs": [],
   "source": [
    "\n",
    "import numpy as np \n",
    "import pandas as pd\n",
    "from matplotlib import pyplot as plt\n",
    "                    "
   ]
  },
  {
   "cell_type": "code",
   "execution_count": 2,
   "id": "6013fc33",
   "metadata": {
    "execution": {
     "iopub.execute_input": "2024-02-16T16:33:15.921146Z",
     "iopub.status.busy": "2024-02-16T16:33:15.920690Z",
     "iopub.status.idle": "2024-02-16T16:33:19.161035Z",
     "shell.execute_reply": "2024-02-16T16:33:19.159944Z"
    },
    "papermill": {
     "duration": 3.248429,
     "end_time": "2024-02-16T16:33:19.163656",
     "exception": false,
     "start_time": "2024-02-16T16:33:15.915227",
     "status": "completed"
    },
    "tags": []
   },
   "outputs": [],
   "source": [
    "data = pd.read_csv('/kaggle/input/digit-recognizer/train.csv')"
   ]
  },
  {
   "cell_type": "code",
   "execution_count": 3,
   "id": "f06ca7af",
   "metadata": {
    "execution": {
     "iopub.execute_input": "2024-02-16T16:33:19.174454Z",
     "iopub.status.busy": "2024-02-16T16:33:19.174088Z",
     "iopub.status.idle": "2024-02-16T16:33:19.298141Z",
     "shell.execute_reply": "2024-02-16T16:33:19.296986Z"
    },
    "papermill": {
     "duration": 0.132379,
     "end_time": "2024-02-16T16:33:19.300622",
     "exception": false,
     "start_time": "2024-02-16T16:33:19.168243",
     "status": "completed"
    },
    "tags": []
   },
   "outputs": [],
   "source": [
    "data=np.array(data)"
   ]
  },
  {
   "cell_type": "code",
   "execution_count": 4,
   "id": "7d6a5f70",
   "metadata": {
    "execution": {
     "iopub.execute_input": "2024-02-16T16:33:19.310909Z",
     "iopub.status.busy": "2024-02-16T16:33:19.310581Z",
     "iopub.status.idle": "2024-02-16T16:33:19.871994Z",
     "shell.execute_reply": "2024-02-16T16:33:19.871053Z"
    },
    "papermill": {
     "duration": 0.569547,
     "end_time": "2024-02-16T16:33:19.874544",
     "exception": false,
     "start_time": "2024-02-16T16:33:19.304997",
     "status": "completed"
    },
    "tags": []
   },
   "outputs": [],
   "source": [
    "np.random.shuffle(data)"
   ]
  },
  {
   "cell_type": "code",
   "execution_count": 5,
   "id": "edf0858d",
   "metadata": {
    "execution": {
     "iopub.execute_input": "2024-02-16T16:33:19.884842Z",
     "iopub.status.busy": "2024-02-16T16:33:19.884496Z",
     "iopub.status.idle": "2024-02-16T16:33:19.888854Z",
     "shell.execute_reply": "2024-02-16T16:33:19.887578Z"
    },
    "papermill": {
     "duration": 0.012339,
     "end_time": "2024-02-16T16:33:19.891263",
     "exception": false,
     "start_time": "2024-02-16T16:33:19.878924",
     "status": "completed"
    },
    "tags": []
   },
   "outputs": [],
   "source": [
    "m,n=data.shape"
   ]
  },
  {
   "cell_type": "code",
   "execution_count": 6,
   "id": "067c8faf",
   "metadata": {
    "execution": {
     "iopub.execute_input": "2024-02-16T16:33:19.901748Z",
     "iopub.status.busy": "2024-02-16T16:33:19.901362Z",
     "iopub.status.idle": "2024-02-16T16:33:19.906207Z",
     "shell.execute_reply": "2024-02-16T16:33:19.905305Z"
    },
    "papermill": {
     "duration": 0.012676,
     "end_time": "2024-02-16T16:33:19.908412",
     "exception": false,
     "start_time": "2024-02-16T16:33:19.895736",
     "status": "completed"
    },
    "tags": []
   },
   "outputs": [],
   "source": [
    "data_dev=data[:1000].T"
   ]
  },
  {
   "cell_type": "code",
   "execution_count": 7,
   "id": "447c64d2",
   "metadata": {
    "execution": {
     "iopub.execute_input": "2024-02-16T16:33:19.918737Z",
     "iopub.status.busy": "2024-02-16T16:33:19.918337Z",
     "iopub.status.idle": "2024-02-16T16:33:19.924633Z",
     "shell.execute_reply": "2024-02-16T16:33:19.923724Z"
    },
    "papermill": {
     "duration": 0.013922,
     "end_time": "2024-02-16T16:33:19.926726",
     "exception": false,
     "start_time": "2024-02-16T16:33:19.912804",
     "status": "completed"
    },
    "tags": []
   },
   "outputs": [],
   "source": [
    "Y_dev=data_dev[0]\n",
    "X_dev=data_dev[1:n]\n",
    "X_dev=X_dev/255."
   ]
  },
  {
   "cell_type": "code",
   "execution_count": 8,
   "id": "f24de189",
   "metadata": {
    "execution": {
     "iopub.execute_input": "2024-02-16T16:33:19.937142Z",
     "iopub.status.busy": "2024-02-16T16:33:19.936731Z",
     "iopub.status.idle": "2024-02-16T16:33:19.942495Z",
     "shell.execute_reply": "2024-02-16T16:33:19.941534Z"
    },
    "papermill": {
     "duration": 0.013528,
     "end_time": "2024-02-16T16:33:19.944730",
     "exception": false,
     "start_time": "2024-02-16T16:33:19.931202",
     "status": "completed"
    },
    "tags": []
   },
   "outputs": [
    {
     "name": "stdout",
     "output_type": "stream",
     "text": [
      "(1000,)\n",
      "(784, 1000)\n"
     ]
    }
   ],
   "source": [
    "print(Y_dev.shape)\n",
    "print(X_dev.shape)"
   ]
  },
  {
   "cell_type": "code",
   "execution_count": 9,
   "id": "813e7dff",
   "metadata": {
    "execution": {
     "iopub.execute_input": "2024-02-16T16:33:19.955936Z",
     "iopub.status.busy": "2024-02-16T16:33:19.955044Z",
     "iopub.status.idle": "2024-02-16T16:33:20.061984Z",
     "shell.execute_reply": "2024-02-16T16:33:20.060890Z"
    },
    "papermill": {
     "duration": 0.115256,
     "end_time": "2024-02-16T16:33:20.064727",
     "exception": false,
     "start_time": "2024-02-16T16:33:19.949471",
     "status": "completed"
    },
    "tags": []
   },
   "outputs": [],
   "source": [
    "data_train=data[1000:m].T\n",
    "Y_train=data_train[0]\n",
    "X_train=data_train[1:n]\n",
    "X_train=X_train/255\n",
    "_,m_train=X_train.shape"
   ]
  },
  {
   "cell_type": "code",
   "execution_count": 10,
   "id": "2dba6b56",
   "metadata": {
    "execution": {
     "iopub.execute_input": "2024-02-16T16:33:20.075683Z",
     "iopub.status.busy": "2024-02-16T16:33:20.075253Z",
     "iopub.status.idle": "2024-02-16T16:33:20.086742Z",
     "shell.execute_reply": "2024-02-16T16:33:20.085586Z"
    },
    "papermill": {
     "duration": 0.019534,
     "end_time": "2024-02-16T16:33:20.089015",
     "exception": false,
     "start_time": "2024-02-16T16:33:20.069481",
     "status": "completed"
    },
    "tags": []
   },
   "outputs": [],
   "source": [
    "def init_parameters():\n",
    "    w1=np.random.rand(10,784)-0.5\n",
    "    w2=np.random.rand(10,10)-0.5\n",
    "    b1=np.random.rand(10,1)-0.5\n",
    "    b2=np.random.rand(10,1)-0.5\n",
    "    return w1,b1,w2,b2\n",
    "\n",
    "def ReLU(a): return np.maximum(a,0)\n",
    "def softmax(a): return np.exp(a)/sum(np.exp(a))\n",
    "\n",
    "def forward_propagation(w1,b1,w2,b2,inp):\n",
    "    z1=w1.dot(inp)+b1\n",
    "    a1=ReLU(z1)\n",
    "    z2=w2.dot(a1)+b2\n",
    "    a2=softmax(z2)\n",
    "    return z1,a1,z2,a2\n",
    "\n",
    "def one_hot(x):\n",
    "    oh=np.zeros((x.size,x.max()+1))\n",
    "    oh[np.arange(x.size),x]=1\n",
    "    oh=oh.T\n",
    "    return oh\n",
    "def deri_relu(x):return x>0\n",
    "\n",
    "def back_prop(z1,a1,z2,a2,w2,x,y):\n",
    "    y=one_hot(y)\n",
    "    dz2=a2-y\n",
    "    dw2=1/m*dz2.dot(a1.T)\n",
    "    db2=1/m*np.sum(dz2)\n",
    "    dz1=w2.T.dot(dz2)*(deri_relu(z1))\n",
    "    dw1=1/m*dz1.dot(x.T)\n",
    "    db1=1/m*np.sum(dz1)\n",
    "    return dw1,db1,dw2,db2\n",
    "\n",
    "def update_params(w1, b1, w2, b2, dw1, db1, dw2, db2, alpha):\n",
    "    w1=w1-alpha*dw1\n",
    "    b1=b1-alpha*db1    \n",
    "    w2=w2-alpha*dw2  \n",
    "    b2=b2-alpha*db2    \n",
    "    return w1,b1,w2,b2\n",
    "\n"
   ]
  },
  {
   "cell_type": "code",
   "execution_count": 11,
   "id": "f0fcfa4f",
   "metadata": {
    "execution": {
     "iopub.execute_input": "2024-02-16T16:33:20.099751Z",
     "iopub.status.busy": "2024-02-16T16:33:20.099372Z",
     "iopub.status.idle": "2024-02-16T16:33:20.107146Z",
     "shell.execute_reply": "2024-02-16T16:33:20.106140Z"
    },
    "papermill": {
     "duration": 0.015703,
     "end_time": "2024-02-16T16:33:20.109296",
     "exception": false,
     "start_time": "2024-02-16T16:33:20.093593",
     "status": "completed"
    },
    "tags": []
   },
   "outputs": [],
   "source": [
    "def get_pred(x):\n",
    "    return np.argmax(x,0)\n",
    "\n",
    "def get_correctness(pred, y):\n",
    "    print(pred,y)\n",
    "    return np.sum(pred == y)/y.size\n",
    "\n",
    "def gradient_descent(x,y,alpha,it):\n",
    "    w1,b1,w2,b2=init_parameters()\n",
    "    for i in range(it):\n",
    "        z1,a1,z2,a2=forward_propagation(w1,b1,w2,b2,x)\n",
    "        dW1,db1,dw2,db2=back_prop(z1,a1,z2,a2,w2,x,y)\n",
    "        w1,b1,w2,b2=update_params(w1,b1,w2,b2,dW1,db1,dw2,db2,alpha)\n",
    "        if i%10==0:\n",
    "            print(\"Iteration: \",i)\n",
    "            predictions=get_pred(a2)\n",
    "            print(get_correctness(predictions, y))\n",
    "    return w1,b1,w2,b2"
   ]
  },
  {
   "cell_type": "code",
   "execution_count": 12,
   "id": "d3af834c",
   "metadata": {
    "execution": {
     "iopub.execute_input": "2024-02-16T16:33:20.120020Z",
     "iopub.status.busy": "2024-02-16T16:33:20.119314Z",
     "iopub.status.idle": "2024-02-16T16:34:17.530220Z",
     "shell.execute_reply": "2024-02-16T16:34:17.528954Z"
    },
    "papermill": {
     "duration": 57.419793,
     "end_time": "2024-02-16T16:34:17.533598",
     "exception": false,
     "start_time": "2024-02-16T16:33:20.113805",
     "status": "completed"
    },
    "tags": []
   },
   "outputs": [
    {
     "name": "stdout",
     "output_type": "stream",
     "text": [
      "Iteration:  0\n",
      "[7 7 7 ... 7 7 7] [7 7 7 ... 7 4 7]\n",
      "0.11690243902439025\n",
      "Iteration:  10\n",
      "[7 9 0 ... 3 7 7] [7 7 7 ... 7 4 7]\n",
      "0.2557317073170732\n",
      "Iteration:  20\n",
      "[9 9 7 ... 3 7 9] [7 7 7 ... 7 4 7]\n",
      "0.31409756097560976\n",
      "Iteration:  30\n",
      "[9 9 7 ... 9 4 9] [7 7 7 ... 7 4 7]\n",
      "0.3706829268292683\n",
      "Iteration:  40\n",
      "[9 9 7 ... 9 4 7] [7 7 7 ... 7 4 7]\n",
      "0.41224390243902437\n",
      "Iteration:  50\n",
      "[7 9 7 ... 7 4 7] [7 7 7 ... 7 4 7]\n",
      "0.4532926829268293\n",
      "Iteration:  60\n",
      "[7 9 7 ... 7 4 7] [7 7 7 ... 7 4 7]\n",
      "0.4945121951219512\n",
      "Iteration:  70\n",
      "[7 7 7 ... 7 4 7] [7 7 7 ... 7 4 7]\n",
      "0.5379268292682927\n",
      "Iteration:  80\n",
      "[7 7 7 ... 7 4 7] [7 7 7 ... 7 4 7]\n",
      "0.5809512195121951\n",
      "Iteration:  90\n",
      "[7 7 7 ... 7 4 7] [7 7 7 ... 7 4 7]\n",
      "0.6202682926829268\n",
      "Iteration:  100\n",
      "[7 7 7 ... 7 4 7] [7 7 7 ... 7 4 7]\n",
      "0.6536829268292683\n",
      "Iteration:  110\n",
      "[7 7 7 ... 7 4 7] [7 7 7 ... 7 4 7]\n",
      "0.6798536585365854\n",
      "Iteration:  120\n",
      "[7 7 7 ... 7 4 7] [7 7 7 ... 7 4 7]\n",
      "0.6996341463414634\n",
      "Iteration:  130\n",
      "[7 7 7 ... 7 4 7] [7 7 7 ... 7 4 7]\n",
      "0.7165365853658536\n",
      "Iteration:  140\n",
      "[7 7 7 ... 7 4 7] [7 7 7 ... 7 4 7]\n",
      "0.7304878048780488\n",
      "Iteration:  150\n",
      "[7 7 7 ... 7 4 7] [7 7 7 ... 7 4 7]\n",
      "0.7406341463414634\n",
      "Iteration:  160\n",
      "[7 7 7 ... 7 4 7] [7 7 7 ... 7 4 7]\n",
      "0.7501463414634146\n",
      "Iteration:  170\n",
      "[7 7 7 ... 7 4 7] [7 7 7 ... 7 4 7]\n",
      "0.7594390243902439\n",
      "Iteration:  180\n",
      "[7 7 7 ... 7 4 7] [7 7 7 ... 7 4 7]\n",
      "0.7674146341463415\n",
      "Iteration:  190\n",
      "[7 7 7 ... 7 4 7] [7 7 7 ... 7 4 7]\n",
      "0.7741951219512195\n",
      "Iteration:  200\n",
      "[7 7 7 ... 7 4 7] [7 7 7 ... 7 4 7]\n",
      "0.7800487804878049\n",
      "Iteration:  210\n",
      "[7 7 7 ... 7 4 7] [7 7 7 ... 7 4 7]\n",
      "0.7848780487804878\n",
      "Iteration:  220\n",
      "[7 7 7 ... 7 4 7] [7 7 7 ... 7 4 7]\n",
      "0.7897804878048781\n",
      "Iteration:  230\n",
      "[7 7 7 ... 7 4 7] [7 7 7 ... 7 4 7]\n",
      "0.7944390243902439\n",
      "Iteration:  240\n",
      "[7 7 7 ... 7 4 7] [7 7 7 ... 7 4 7]\n",
      "0.7986829268292683\n",
      "Iteration:  250\n",
      "[7 7 7 ... 7 4 7] [7 7 7 ... 7 4 7]\n",
      "0.802439024390244\n",
      "Iteration:  260\n",
      "[7 7 7 ... 7 4 7] [7 7 7 ... 7 4 7]\n",
      "0.8052439024390244\n",
      "Iteration:  270\n",
      "[7 7 7 ... 7 4 7] [7 7 7 ... 7 4 7]\n",
      "0.8087560975609757\n",
      "Iteration:  280\n",
      "[7 7 7 ... 7 4 7] [7 7 7 ... 7 4 7]\n",
      "0.8113170731707318\n",
      "Iteration:  290\n",
      "[7 7 7 ... 7 4 7] [7 7 7 ... 7 4 7]\n",
      "0.8146341463414634\n",
      "Iteration:  300\n",
      "[7 7 7 ... 7 4 7] [7 7 7 ... 7 4 7]\n",
      "0.817390243902439\n",
      "Iteration:  310\n",
      "[7 7 7 ... 7 4 7] [7 7 7 ... 7 4 7]\n",
      "0.8197073170731707\n",
      "Iteration:  320\n",
      "[7 7 7 ... 7 4 7] [7 7 7 ... 7 4 7]\n",
      "0.822\n",
      "Iteration:  330\n",
      "[7 7 7 ... 7 4 7] [7 7 7 ... 7 4 7]\n",
      "0.823780487804878\n",
      "Iteration:  340\n",
      "[7 7 7 ... 7 4 7] [7 7 7 ... 7 4 7]\n",
      "0.8258536585365853\n",
      "Iteration:  350\n",
      "[7 7 7 ... 7 4 7] [7 7 7 ... 7 4 7]\n",
      "0.827560975609756\n",
      "Iteration:  360\n",
      "[7 7 7 ... 7 4 7] [7 7 7 ... 7 4 7]\n",
      "0.8294390243902439\n",
      "Iteration:  370\n",
      "[7 7 7 ... 7 4 7] [7 7 7 ... 7 4 7]\n",
      "0.8309756097560975\n",
      "Iteration:  380\n",
      "[7 7 7 ... 7 4 7] [7 7 7 ... 7 4 7]\n",
      "0.8327560975609756\n",
      "Iteration:  390\n",
      "[7 7 7 ... 7 4 7] [7 7 7 ... 7 4 7]\n",
      "0.8340487804878048\n",
      "Iteration:  400\n",
      "[7 7 7 ... 7 4 7] [7 7 7 ... 7 4 7]\n",
      "0.8352439024390244\n",
      "Iteration:  410\n",
      "[7 7 7 ... 7 4 7] [7 7 7 ... 7 4 7]\n",
      "0.8364390243902439\n",
      "Iteration:  420\n",
      "[7 7 7 ... 7 4 7] [7 7 7 ... 7 4 7]\n",
      "0.8378292682926829\n",
      "Iteration:  430\n",
      "[7 7 7 ... 7 4 7] [7 7 7 ... 7 4 7]\n",
      "0.8389512195121951\n",
      "Iteration:  440\n",
      "[7 7 7 ... 7 4 7] [7 7 7 ... 7 4 7]\n",
      "0.8401219512195122\n",
      "Iteration:  450\n",
      "[7 7 7 ... 7 4 7] [7 7 7 ... 7 4 7]\n",
      "0.8415609756097561\n",
      "Iteration:  460\n",
      "[7 7 7 ... 7 4 7] [7 7 7 ... 7 4 7]\n",
      "0.8429512195121951\n",
      "Iteration:  470\n",
      "[7 7 7 ... 7 4 7] [7 7 7 ... 7 4 7]\n",
      "0.8440975609756097\n",
      "Iteration:  480\n",
      "[7 7 7 ... 7 4 7] [7 7 7 ... 7 4 7]\n",
      "0.8450731707317073\n",
      "Iteration:  490\n",
      "[7 7 7 ... 7 4 7] [7 7 7 ... 7 4 7]\n",
      "0.8463414634146341\n"
     ]
    }
   ],
   "source": [
    "w1,b1,w2,b2=gradient_descent(X_train,Y_train,0.10,500)\n"
   ]
  },
  {
   "cell_type": "code",
   "execution_count": 13,
   "id": "8e8e8ddd",
   "metadata": {
    "execution": {
     "iopub.execute_input": "2024-02-16T16:34:17.562651Z",
     "iopub.status.busy": "2024-02-16T16:34:17.562141Z",
     "iopub.status.idle": "2024-02-16T16:34:17.574650Z",
     "shell.execute_reply": "2024-02-16T16:34:17.573483Z"
    },
    "papermill": {
     "duration": 0.031648,
     "end_time": "2024-02-16T16:34:17.578117",
     "exception": false,
     "start_time": "2024-02-16T16:34:17.546469",
     "status": "completed"
    },
    "tags": []
   },
   "outputs": [],
   "source": [
    "def make_predictions(X,w1,b1,w2,b2):\n",
    "    _,_,_,a2=forward_propagation(w1,b1,w2,b2,X)\n",
    "    pred=get_pred(a2)\n",
    "    return pred\n",
    "\n",
    "def test_prediction(index,w1,b1,w2,b2):\n",
    "    current_image=X_train[:,index, None]\n",
    "    prediction=make_predictions(X_train[:, index, None], w1, b1, w2, b2)\n",
    "    label=Y_train[index]\n",
    "    print(\"Prediction: \",prediction)\n",
    "    print(\"Label: \",label)\n",
    "    \n",
    "    current_image=current_image.reshape((28, 28))-255\n",
    "    plt.gray()\n",
    "    plt.imshow(current_image, interpolation='nearest')\n",
    "    plt.show()"
   ]
  },
  {
   "cell_type": "code",
   "execution_count": 14,
   "id": "74957ff7",
   "metadata": {
    "execution": {
     "iopub.execute_input": "2024-02-16T16:34:17.605824Z",
     "iopub.status.busy": "2024-02-16T16:34:17.605322Z",
     "iopub.status.idle": "2024-02-16T16:34:18.286341Z",
     "shell.execute_reply": "2024-02-16T16:34:18.285255Z"
    },
    "papermill": {
     "duration": 0.697273,
     "end_time": "2024-02-16T16:34:18.288675",
     "exception": false,
     "start_time": "2024-02-16T16:34:17.591402",
     "status": "completed"
    },
    "tags": []
   },
   "outputs": [
    {
     "name": "stdout",
     "output_type": "stream",
     "text": [
      "Prediction:  [7]\n",
      "Label:  7\n"
     ]
    },
    {
     "data": {
      "image/png": "[encoded data removed]",
      "text/plain": [
       "<Figure size 640x480 with 1 Axes>"
      ]
     },
     "metadata": {},
     "output_type": "display_data"
    },
    {
     "name": "stdout",
     "output_type": "stream",
     "text": [
      "Prediction:  [7]\n",
      "Label:  7\n"
     ]
    },
    {
     "data": {
      "image/png": "[encoded data removed]",
      "text/plain": [
       "<Figure size 640x480 with 1 Axes>"
      ]
     },
     "metadata": {},
     "output_type": "display_data"
    },
    {
     "name": "stdout",
     "output_type": "stream",
     "text": [
      "Prediction:  [7]\n",
      "Label:  7\n"
     ]
    },
    {
     "data": {
      "image/png": "[encoded data removed]",
      "text/plain": [
       "<Figure size 640x480 with 1 Axes>"
      ]
     },
     "metadata": {},
     "output_type": "display_data"
    },
    {
     "name": "stdout",
     "output_type": "stream",
     "text": [
      "Prediction:  [9]\n",
      "Label:  8\n"
     ]
    },
    {
     "data": {
      "image/png": "[encoded data removed]",
      "text/plain": [
       "<Figure size 640x480 with 1 Axes>"
      ]
     },
     "metadata": {},
     "output_type": "display_data"
    }
   ],
   "source": [
    "test_prediction(0, w1, b1, w2, b2)\n",
    "test_prediction(1, w1, b1, w2, b2)\n",
    "test_prediction(2, w1, b1, w2, b2)\n",
    "test_prediction(3, w1, b1, w2, b2)"
   ]
  },
  {
   "cell_type": "code",
   "execution_count": 15,
   "id": "75d858c0",
   "metadata": {
    "execution": {
     "iopub.execute_input": "2024-02-16T16:34:18.307942Z",
     "iopub.status.busy": "2024-02-16T16:34:18.307566Z",
     "iopub.status.idle": "2024-02-16T16:34:18.327502Z",
     "shell.execute_reply": "2024-02-16T16:34:18.324640Z"
    },
    "papermill": {
     "duration": 0.033031,
     "end_time": "2024-02-16T16:34:18.330608",
     "exception": false,
     "start_time": "2024-02-16T16:34:18.297577",
     "status": "completed"
    },
    "tags": []
   },
   "outputs": [
    {
     "name": "stdout",
     "output_type": "stream",
     "text": [
      "[0 8 5 0 3 7 3 6 3 0 0 2 1 5 5 5 5 0 5 1 3 8 2 7 7 6 9 7 7 1 3 0 6 8 4 8 8\n",
      " 3 6 7 1 8 1 0 6 8 5 2 6 1 1 0 8 2 3 9 8 8 0 3 0 2 3 9 6 3 4 3 5 7 1 2 0 0\n",
      " 0 1 5 2 9 4 6 2 8 4 6 0 1 3 9 7 3 1 7 7 2 8 1 5 8 8 0 0 8 9 1 9 4 1 9 9 2\n",
      " 2 3 1 9 6 0 2 2 7 1 5 3 3 0 1 1 0 6 1 5 1 1 3 5 1 1 7 7 2 6 0 4 8 0 4 1 4\n",
      " 4 2 6 1 1 2 6 0 9 3 7 1 1 0 2 1 1 5 4 0 3 0 1 3 4 4 6 2 7 3 3 7 7 8 2 7 8\n",
      " 6 1 2 7 6 2 5 8 1 9 0 0 7 7 3 4 1 1 6 1 3 9 2 1 2 4 1 5 9 7 6 9 3 1 2 0 7\n",
      " 2 7 9 7 0 1 9 6 4 9 8 1 3 4 0 3 7 9 0 4 0 2 3 9 8 3 5 2 1 7 0 8 5 1 2 3 0\n",
      " 5 7 9 9 9 1 6 1 3 2 4 9 0 4 6 9 8 3 5 2 4 0 8 4 7 6 4 2 2 0 5 5 0 0 7 0 6\n",
      " 3 5 7 3 8 7 8 6 7 2 3 2 0 7 2 9 1 8 3 1 9 0 4 4 3 5 0 4 6 8 0 6 6 0 3 2 4\n",
      " 0 5 0 0 7 5 7 2 9 1 1 6 6 1 0 2 5 3 0 6 2 7 0 6 5 0 7 9 8 4 8 1 8 1 8 0 2\n",
      " 7 2 3 7 6 7 3 7 6 3 1 6 3 3 3 5 1 1 0 5 5 5 6 9 9 9 3 6 0 5 4 9 7 4 1 1 7\n",
      " 3 5 7 8 2 3 9 3 5 3 5 5 6 1 6 7 4 5 0 7 8 4 1 4 1 4 1 6 7 9 8 4 8 7 8 2 8\n",
      " 4 9 3 8 7 1 4 6 3 2 7 7 5 9 6 9 1 3 6 1 4 1 1 0 4 4 6 2 1 4 1 0 3 7 4 1 2\n",
      " 8 4 0 8 8 2 1 8 1 1 2 3 9 3 7 9 7 6 9 6 7 9 1 8 3 8 4 0 5 9 8 5 5 8 8 1 9\n",
      " 6 1 1 2 7 7 7 9 6 8 8 9 1 1 6 0 0 2 4 4 2 4 3 3 6 2 9 4 7 0 2 9 8 1 0 1 3\n",
      " 1 5 0 6 9 6 2 1 7 5 1 2 8 9 3 7 1 2 5 1 9 0 0 2 8 2 0 0 9 2 9 7 3 7 1 1 4\n",
      " 6 2 0 7 7 3 0 8 9 2 7 3 1 4 3 7 1 7 6 9 5 4 9 0 8 9 7 8 5 3 1 9 9 7 0 1 9\n",
      " 9 6 4 3 8 4 6 4 6 2 0 2 1 1 1 1 5 9 9 6 2 7 3 4 1 0 1 4 7 2 4 2 6 9 6 9 9\n",
      " 5 9 1 0 8 8 1 8 8 1 4 1 9 4 6 4 6 8 1 9 9 3 9 0 9 9 0 5 1 0 5 9 5 7 9 3 7\n",
      " 3 4 0 8 8 2 2 7 0 6 9 5 9 8 8 6 1 0 8 9 6 1 1 9 6 5 2 8 1 1 1 7 8 2 6 5 8\n",
      " 0 1 7 6 3 9 2 2 6 8 9 7 9 1 6 9 7 3 9 8 9 2 8 9 3 1 6 5 9 8 8 6 5 9 7 0 2\n",
      " 7 1 0 4 0 4 7 1 5 2 1 1 2 8 7 3 7 0 1 8 6 3 2 0 8 8 9 1 2 6 1 8 4 7 7 6 2\n",
      " 4 1 1 0 0 4 7 8 6 7 5 8 1 8 8 0 1 3 3 4 0 6 0 0 4 3 4 3 3 7 3 2 4 0 0 2 6\n",
      " 9 6 7 5 0 5 6 2 8 9 7 1 2 7 5 4 9 4 4 2 3 2 1 0 5 8 3 5 2 2 8 3 4 3 2 8 0\n",
      " 4 4 0 0 6 1 7 7 0 1 6 8 1 0 0 6 1 9 2 0 8 6 8 6 8 7 8 0 1 2 0 8 1 3 8 0 8\n",
      " 4 3 2 4 0 0 6 7 1 7 5 8 4 1 1 1 3 9 5 9 5 0 3 0 3 4 1 0 7 1 0 6 1 1 5 1 7\n",
      " 6 2 3 6 0 4 8 6 8 3 9 4 4 8 5 9 1 3 0 6 8 5 7 3 7 6 6 9 1 9 7 4 9 7 9 8 9\n",
      " 2] [6 3 5 0 3 7 5 2 3 0 0 2 1 5 5 5 5 0 5 1 3 8 6 7 7 2 4 7 9 1 3 5 6 8 4 8 8\n",
      " 3 6 7 1 8 1 0 6 7 5 2 6 1 1 5 8 2 3 9 8 5 7 3 0 2 8 7 6 3 4 5 5 7 1 2 0 0\n",
      " 0 1 5 2 9 2 2 0 8 4 6 0 1 3 9 7 3 8 7 7 6 8 1 5 8 5 0 0 8 9 1 9 9 1 9 9 2\n",
      " 2 3 1 7 6 0 2 3 7 1 5 3 3 0 1 1 0 6 1 5 1 1 3 2 1 1 7 7 2 6 0 4 8 0 4 1 4\n",
      " 4 2 6 1 1 2 6 0 9 3 7 1 1 0 2 1 1 5 4 0 3 0 1 3 4 4 6 2 7 3 3 7 7 2 2 7 8\n",
      " 6 1 2 7 6 3 8 8 1 9 0 0 7 7 3 4 1 1 6 1 3 9 2 1 2 4 1 3 9 7 6 9 8 1 2 0 9\n",
      " 6 7 9 7 0 1 9 2 9 3 2 1 3 4 0 3 7 9 0 7 0 2 3 9 2 3 9 2 1 7 0 8 5 1 2 3 0\n",
      " 5 7 4 9 9 1 6 1 3 2 4 9 0 4 2 9 8 3 5 2 4 0 8 4 7 6 4 2 2 0 8 8 0 0 7 0 6\n",
      " 8 5 7 3 8 7 5 6 7 2 3 5 0 7 5 3 1 8 3 1 9 0 4 9 3 5 4 4 6 8 0 6 6 3 3 2 4\n",
      " 0 5 0 0 7 5 7 2 9 1 3 6 6 1 0 2 5 3 5 6 2 7 6 6 3 0 7 9 8 4 6 1 3 1 8 0 8\n",
      " 7 2 5 7 6 7 8 7 6 3 1 6 3 3 5 5 1 1 0 5 6 5 6 9 9 9 5 6 0 5 4 9 7 9 1 1 7\n",
      " 3 5 7 8 5 3 9 2 5 8 5 5 6 1 6 7 4 5 0 7 8 4 1 4 1 4 1 6 4 4 3 4 5 7 8 2 8\n",
      " 4 9 3 8 7 1 4 6 3 2 7 7 5 9 6 9 1 3 6 4 4 3 1 0 4 4 5 2 1 4 1 0 3 7 9 1 2\n",
      " 8 9 0 4 8 2 1 5 7 1 2 3 7 3 7 9 7 5 6 6 7 8 9 8 3 5 4 0 5 9 3 3 5 8 8 1 9\n",
      " 6 1 1 2 7 7 7 8 6 0 8 9 1 1 6 0 0 2 9 6 2 4 3 3 6 2 9 4 7 9 8 9 8 1 0 1 3\n",
      " 1 3 0 6 9 6 2 1 7 5 1 2 8 9 3 7 1 2 4 1 9 0 0 7 8 2 0 0 5 2 9 7 3 9 1 1 6\n",
      " 6 2 0 9 7 8 0 8 9 2 7 5 1 9 3 7 1 7 6 9 5 4 9 0 8 9 7 2 5 3 1 9 9 7 0 1 9\n",
      " 9 6 4 3 0 4 6 4 6 2 2 2 1 5 1 1 5 9 9 5 2 7 3 4 1 0 1 4 7 3 4 2 5 9 6 9 9\n",
      " 3 9 1 0 8 8 1 8 8 1 4 1 9 4 6 4 6 3 1 9 9 3 9 0 9 9 0 5 1 0 5 9 5 7 9 5 7\n",
      " 3 4 6 5 8 2 2 7 9 5 9 5 9 8 3 6 1 0 8 9 6 1 1 9 6 5 2 5 1 1 1 7 8 2 6 5 5\n",
      " 0 1 7 6 2 9 2 2 6 5 9 7 8 1 6 9 7 3 9 8 3 2 8 9 3 1 6 5 9 8 8 6 5 9 7 0 2\n",
      " 7 1 0 4 0 4 7 1 5 2 1 7 2 8 7 3 7 0 1 8 5 3 2 0 8 5 7 1 3 6 1 3 4 7 7 6 2\n",
      " 4 9 3 0 0 4 7 8 0 9 5 8 1 8 8 9 1 3 3 7 0 6 0 0 4 5 6 8 3 9 3 2 4 0 0 2 6\n",
      " 9 6 7 5 0 5 6 2 8 9 7 1 2 7 5 4 9 4 4 2 3 2 1 0 8 9 3 5 7 2 9 3 4 3 2 8 0\n",
      " 4 9 0 0 6 1 7 7 0 1 6 8 3 0 6 6 1 9 2 0 8 6 8 6 8 7 8 0 1 2 0 8 1 3 8 0 8\n",
      " 9 3 2 4 0 0 6 7 1 7 2 2 9 1 1 1 3 9 5 9 8 0 3 0 8 4 1 0 7 1 0 6 5 1 5 1 7\n",
      " 4 2 3 6 0 4 8 6 8 3 5 4 6 8 5 4 1 3 0 6 3 5 7 3 7 6 6 9 1 9 7 4 4 7 9 5 9\n",
      " 2]\n"
     ]
    },
    {
     "data": {
      "text/plain": [
       "0.838"
      ]
     },
     "execution_count": 15,
     "metadata": {},
     "output_type": "execute_result"
    }
   ],
   "source": [
    "dev_predictions = make_predictions(X_dev,w1,b1,w2,b2)\n",
    "get_correctness(dev_predictions,Y_dev)"
   ]
  },
  {
   "cell_type": "code",
   "execution_count": null,
   "id": "0b88ac2f",
   "metadata": {
    "papermill": {
     "duration": 0.014627,
     "end_time": "2024-02-16T16:34:18.360461",
     "exception": false,
     "start_time": "2024-02-16T16:34:18.345834",
     "status": "completed"
    },
    "tags": []
   },
   "outputs": [],
   "source": []
  }
 ],
 "metadata": {
  "kaggle": {
   "accelerator": "none",
   "dataSources": [
    {
     "databundleVersionId": 861823,
     "sourceId": 3004,
     "sourceType": "competition"
    },
    {
     "sourceId": 1313369,
     "sourceType": "kernelVersion"
    }
   ],
   "dockerImageVersionId": 30646,
   "isGpuEnabled": false,
   "isInternetEnabled": false,
   "language": "python",
   "sourceType": "notebook"
  },
  "kernelspec": {
   "display_name": "Python 3",
   "language": "python",
   "name": "python3"
  },
  "language_info": {
   "codemirror_mode": {
    "name": "ipython",
    "version": 3
   },
   "file_extension": ".py",
   "mimetype": "text/x-python",
   "name": "python",
   "nbconvert_exporter": "python",
   "pygments_lexer": "ipython3",
   "version": "3.10.13"
  },
  "papermill": {
   "default_parameters": {},
   "duration": 66.494535,
   "end_time": "2024-02-16T16:34:18.899140",
   "environment_variables": {},
   "exception": null,
   "input_path": "__notebook__.ipynb",
   "output_path": "__notebook__.ipynb",
   "parameters": {},
   "start_time": "2024-02-16T16:33:12.404605",
   "version": "2.5.0"
  }
 },
 "nbformat": 4,
 "nbformat_minor": 5
}
